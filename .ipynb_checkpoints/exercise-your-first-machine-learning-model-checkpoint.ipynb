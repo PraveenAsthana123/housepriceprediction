{
 "cells": [
  {
   "cell_type": "markdown",
   "id": "6678ce73",
   "metadata": {
    "papermill": {
     "duration": 0.008662,
     "end_time": "2023-12-07T13:06:28.123473",
     "exception": false,
     "start_time": "2023-12-07T13:06:28.114811",
     "status": "completed"
    },
    "tags": []
   },
   "source": [
    "**This notebook is an exercise in the [Introduction to Machine Learning](https://www.kaggle.com/learn/intro-to-machine-learning) course.  You can reference the tutorial at [this link](https://www.kaggle.com/dansbecker/your-first-machine-learning-model).**\n",
    "\n",
    "---\n"
   ]
  },
  {
   "cell_type": "markdown",
   "id": "206f01e4",
   "metadata": {
    "papermill": {
     "duration": 0.00507,
     "end_time": "2023-12-07T13:06:28.134328",
     "exception": false,
     "start_time": "2023-12-07T13:06:28.129258",
     "status": "completed"
    },
    "tags": []
   },
   "source": [
    "## Recap\n",
    "So far, you have loaded your data and reviewed it with the following code. Run this cell to set up your coding environment where the previous step left off."
   ]
  },
  {
   "cell_type": "markdown",
   "id": "a035055a",
   "metadata": {
    "papermill": {
     "duration": 0.004986,
     "end_time": "2023-12-07T13:06:28.144727",
     "exception": false,
     "start_time": "2023-12-07T13:06:28.139741",
     "status": "completed"
    },
    "tags": []
   },
   "source": [
    "The Melbourne data has some missing values and there are many methods to handle the missing values but for now we will drop the column by using the dropna() . the prediction target is called y. The columns that are inputted into our model (and later used to make predictions) are called \"features.\" Sometimes, you will use all columns except the target as features. Other times you'll be better off with fewer features. For now, we'll build a model with only a few features. scikit-learn library to create your models and this library is written as sklearn. Scikit-learn is easily the most popular library for modeling the types of data typically stored in DataFrames. The steps to building and using a model are:\n",
    "\n",
    "Define: What type of model will it be? A decision tree? Some other type of model? Some other parameters of the model type are specified too.\n",
    "Fit: Capture patterns from provided data. This is the heart of modeling.\n",
    "Predict: Just what it sounds like\n",
    "Evaluate: Determine how accurate the model's predictions are. example of defining a decision tree model with scikit-learn and fitting it with the features and target variable. Many machine learning models allow some randomness in model training. Specifying a number for random_state ensures you get the same results in each run. This is considered a good practice. You use any number, and model quality won't depend meaningfully on exactly what value you choose."
   ]
  },
  {
   "cell_type": "code",
   "execution_count": 1,
   "id": "d58950e0",
   "metadata": {
    "execution": {
     "iopub.execute_input": "2023-12-07T13:06:28.159152Z",
     "iopub.status.busy": "2023-12-07T13:06:28.157474Z",
     "iopub.status.idle": "2023-12-07T13:06:30.259786Z",
     "shell.execute_reply": "2023-12-07T13:06:30.258728Z"
    },
    "papermill": {
     "duration": 2.111964,
     "end_time": "2023-12-07T13:06:30.262087",
     "exception": false,
     "start_time": "2023-12-07T13:06:28.150123",
     "status": "completed"
    },
    "tags": []
   },
   "outputs": [
    {
     "ename": "ModuleNotFoundError",
     "evalue": "No module named 'learntools'",
     "output_type": "error",
     "traceback": [
      "\u001b[1;31m---------------------------------------------------------------------------\u001b[0m",
      "\u001b[1;31mModuleNotFoundError\u001b[0m                       Traceback (most recent call last)",
      "Cell \u001b[1;32mIn[1], line 10\u001b[0m\n\u001b[0;32m      7\u001b[0m home_data \u001b[38;5;241m=\u001b[39m pd\u001b[38;5;241m.\u001b[39mread_csv(iowa_file_path)\n\u001b[0;32m      9\u001b[0m \u001b[38;5;66;03m# Set up code checking\u001b[39;00m\n\u001b[1;32m---> 10\u001b[0m \u001b[38;5;28;01mfrom\u001b[39;00m \u001b[38;5;21;01mlearntools\u001b[39;00m\u001b[38;5;21;01m.\u001b[39;00m\u001b[38;5;21;01mcore\u001b[39;00m \u001b[38;5;28;01mimport\u001b[39;00m binder\n\u001b[0;32m     11\u001b[0m binder\u001b[38;5;241m.\u001b[39mbind(\u001b[38;5;28mglobals\u001b[39m())\n\u001b[0;32m     12\u001b[0m \u001b[38;5;28;01mfrom\u001b[39;00m \u001b[38;5;21;01mlearntools\u001b[39;00m\u001b[38;5;21;01m.\u001b[39;00m\u001b[38;5;21;01mmachine_learning\u001b[39;00m\u001b[38;5;21;01m.\u001b[39;00m\u001b[38;5;21;01mex3\u001b[39;00m \u001b[38;5;28;01mimport\u001b[39;00m \u001b[38;5;241m*\u001b[39m\n",
      "\u001b[1;31mModuleNotFoundError\u001b[0m: No module named 'learntools'"
     ]
    }
   ],
   "source": [
    "# Code you have previously used to load data\n",
    "import pandas as pd\n",
    "\n",
    "# Path of the file to read\n",
    "iowa_file_path = 'data/train.csv'\n",
    "\n",
    "home_data = pd.read_csv(iowa_file_path)\n",
    "\n",
    "# Set up code checking\n",
    "#from learntools.core import binder\n",
    "#binder.bind(globals())\n",
    "from learntools.machine_learning.ex3 import *\n",
    "\n",
    "print(\"Setup Complete\")"
   ]
  },
  {
   "cell_type": "markdown",
   "id": "517e1f71",
   "metadata": {
    "papermill": {
     "duration": 0.005055,
     "end_time": "2023-12-07T13:06:30.272710",
     "exception": false,
     "start_time": "2023-12-07T13:06:30.267655",
     "status": "completed"
    },
    "tags": []
   },
   "source": [
    "# Exercises\n",
    "\n",
    "## Step 1: Specify Prediction Target\n",
    "Select the target variable, which corresponds to the sales price. Save this to a new variable called `y`. You'll need to print a list of the columns to find the name of the column you need.\n"
   ]
  },
  {
   "cell_type": "code",
   "execution_count": 2,
   "id": "d88c34aa",
   "metadata": {
    "execution": {
     "iopub.execute_input": "2023-12-07T13:06:30.285547Z",
     "iopub.status.busy": "2023-12-07T13:06:30.284795Z",
     "iopub.status.idle": "2023-12-07T13:06:30.293052Z",
     "shell.execute_reply": "2023-12-07T13:06:30.292232Z"
    },
    "papermill": {
     "duration": 0.017064,
     "end_time": "2023-12-07T13:06:30.295181",
     "exception": false,
     "start_time": "2023-12-07T13:06:30.278117",
     "status": "completed"
    },
    "tags": []
   },
   "outputs": [
    {
     "data": {
      "text/plain": [
       "Index(['Id', 'MSSubClass', 'MSZoning', 'LotFrontage', 'LotArea', 'Street',\n",
       "       'Alley', 'LotShape', 'LandContour', 'Utilities', 'LotConfig',\n",
       "       'LandSlope', 'Neighborhood', 'Condition1', 'Condition2', 'BldgType',\n",
       "       'HouseStyle', 'OverallQual', 'OverallCond', 'YearBuilt', 'YearRemodAdd',\n",
       "       'RoofStyle', 'RoofMatl', 'Exterior1st', 'Exterior2nd', 'MasVnrType',\n",
       "       'MasVnrArea', 'ExterQual', 'ExterCond', 'Foundation', 'BsmtQual',\n",
       "       'BsmtCond', 'BsmtExposure', 'BsmtFinType1', 'BsmtFinSF1',\n",
       "       'BsmtFinType2', 'BsmtFinSF2', 'BsmtUnfSF', 'TotalBsmtSF', 'Heating',\n",
       "       'HeatingQC', 'CentralAir', 'Electrical', '1stFlrSF', '2ndFlrSF',\n",
       "       'LowQualFinSF', 'GrLivArea', 'BsmtFullBath', 'BsmtHalfBath', 'FullBath',\n",
       "       'HalfBath', 'BedroomAbvGr', 'KitchenAbvGr', 'KitchenQual',\n",
       "       'TotRmsAbvGrd', 'Functional', 'Fireplaces', 'FireplaceQu', 'GarageType',\n",
       "       'GarageYrBlt', 'GarageFinish', 'GarageCars', 'GarageArea', 'GarageQual',\n",
       "       'GarageCond', 'PavedDrive', 'WoodDeckSF', 'OpenPorchSF',\n",
       "       'EnclosedPorch', '3SsnPorch', 'ScreenPorch', 'PoolArea', 'PoolQC',\n",
       "       'Fence', 'MiscFeature', 'MiscVal', 'MoSold', 'YrSold', 'SaleType',\n",
       "       'SaleCondition', 'SalePrice'],\n",
       "      dtype='object')"
      ]
     },
     "execution_count": 2,
     "metadata": {},
     "output_type": "execute_result"
    }
   ],
   "source": [
    "home_data.columns"
   ]
  },
  {
   "cell_type": "code",
   "execution_count": 3,
   "id": "ed219346",
   "metadata": {
    "execution": {
     "iopub.execute_input": "2023-12-07T13:06:30.308975Z",
     "iopub.status.busy": "2023-12-07T13:06:30.308390Z",
     "iopub.status.idle": "2023-12-07T13:06:30.311899Z",
     "shell.execute_reply": "2023-12-07T13:06:30.311178Z"
    },
    "papermill": {
     "duration": 0.01295,
     "end_time": "2023-12-07T13:06:30.313843",
     "exception": false,
     "start_time": "2023-12-07T13:06:30.300893",
     "status": "completed"
    },
    "tags": []
   },
   "outputs": [],
   "source": [
    "# print the list of columns in the dataset to find the name of the prediction target\n"
   ]
  },
  {
   "cell_type": "code",
   "execution_count": 4,
   "id": "9647605e",
   "metadata": {
    "execution": {
     "iopub.execute_input": "2023-12-07T13:06:30.326825Z",
     "iopub.status.busy": "2023-12-07T13:06:30.326241Z",
     "iopub.status.idle": "2023-12-07T13:06:30.337562Z",
     "shell.execute_reply": "2023-12-07T13:06:30.336320Z"
    },
    "papermill": {
     "duration": 0.020767,
     "end_time": "2023-12-07T13:06:30.340149",
     "exception": false,
     "start_time": "2023-12-07T13:06:30.319382",
     "status": "completed"
    },
    "tags": []
   },
   "outputs": [
    {
     "name": "stdout",
     "output_type": "stream",
     "text": [
      "0       208500\n",
      "1       181500\n",
      "2       223500\n",
      "3       140000\n",
      "4       250000\n",
      "         ...  \n",
      "1455    175000\n",
      "1456    210000\n",
      "1457    266500\n",
      "1458    142125\n",
      "1459    147500\n",
      "Name: SalePrice, Length: 1460, dtype: int64\n"
     ]
    }
   ],
   "source": [
    "y = home_data.SalePrice\n",
    "# Check your answer\n",
    "#step_1.check()\n",
    "print(y)"
   ]
  },
  {
   "cell_type": "code",
   "execution_count": 5,
   "id": "376c382c",
   "metadata": {
    "collapsed": true,
    "execution": {
     "iopub.execute_input": "2023-12-07T13:06:30.353284Z",
     "iopub.status.busy": "2023-12-07T13:06:30.352892Z",
     "iopub.status.idle": "2023-12-07T13:06:30.357571Z",
     "shell.execute_reply": "2023-12-07T13:06:30.356325Z"
    },
    "jupyter": {
     "outputs_hidden": true
    },
    "papermill": {
     "duration": 0.013857,
     "end_time": "2023-12-07T13:06:30.359768",
     "exception": false,
     "start_time": "2023-12-07T13:06:30.345911",
     "status": "completed"
    },
    "tags": []
   },
   "outputs": [],
   "source": [
    "# The lines below will show you a hint or the solution.\n",
    "# step_1.hint() \n",
    "# step_1.solution()"
   ]
  },
  {
   "cell_type": "markdown",
   "id": "e6d09a22",
   "metadata": {
    "papermill": {
     "duration": 0.005443,
     "end_time": "2023-12-07T13:06:30.370964",
     "exception": false,
     "start_time": "2023-12-07T13:06:30.365521",
     "status": "completed"
    },
    "tags": []
   },
   "source": [
    "## Step 2: Create X\n",
    "Now you will create a DataFrame called `X` holding the predictive features.\n",
    "\n",
    "Since you want only some columns from the original data, you'll first create a list with the names of the columns you want in `X`.\n",
    "\n",
    "You'll use just the following columns in the list (you can copy and paste the whole list to save some typing, though you'll still need to add quotes):\n",
    "  * LotArea\n",
    "  * YearBuilt\n",
    "  * 1stFlrSF\n",
    "  * 2ndFlrSF\n",
    "  * FullBath\n",
    "  * BedroomAbvGr\n",
    "  * TotRmsAbvGrd\n",
    "\n",
    "After you've created that list of features, use it to create the DataFrame that you'll use to fit the model."
   ]
  },
  {
   "cell_type": "code",
   "execution_count": 6,
   "id": "2c6826e2",
   "metadata": {
    "execution": {
     "iopub.execute_input": "2023-12-07T13:06:30.383844Z",
     "iopub.status.busy": "2023-12-07T13:06:30.383477Z",
     "iopub.status.idle": "2023-12-07T13:06:30.403784Z",
     "shell.execute_reply": "2023-12-07T13:06:30.402341Z"
    },
    "papermill": {
     "duration": 0.029681,
     "end_time": "2023-12-07T13:06:30.406306",
     "exception": false,
     "start_time": "2023-12-07T13:06:30.376625",
     "status": "completed"
    },
    "tags": []
   },
   "outputs": [
    {
     "name": "stdout",
     "output_type": "stream",
     "text": [
      "      LotArea  YearBuilt  1stFlrSF  2ndFlrSF  FullBath  BedroomAbvGr  \\\n",
      "0        8450       2003       856       854         2             3   \n",
      "1        9600       1976      1262         0         2             3   \n",
      "2       11250       2001       920       866         2             3   \n",
      "3        9550       1915       961       756         1             3   \n",
      "4       14260       2000      1145      1053         2             4   \n",
      "...       ...        ...       ...       ...       ...           ...   \n",
      "1455     7917       1999       953       694         2             3   \n",
      "1456    13175       1978      2073         0         2             3   \n",
      "1457     9042       1941      1188      1152         2             4   \n",
      "1458     9717       1950      1078         0         1             2   \n",
      "1459     9937       1965      1256         0         1             3   \n",
      "\n",
      "      TotRmsAbvGrd  \n",
      "0                8  \n",
      "1                6  \n",
      "2                6  \n",
      "3                7  \n",
      "4                9  \n",
      "...            ...  \n",
      "1455             7  \n",
      "1456             7  \n",
      "1457             9  \n",
      "1458             5  \n",
      "1459             6  \n",
      "\n",
      "[1460 rows x 7 columns]\n"
     ]
    }
   ],
   "source": [
    "# Create the list of features below\n",
    "feature_names = ['LotArea', 'YearBuilt', '1stFlrSF', '2ndFlrSF', 'FullBath', \n",
    "                 'BedroomAbvGr', 'TotRmsAbvGrd']\n",
    "\n",
    "# Select data corresponding to features in feature_names\n",
    "X = home_data[feature_names]\n",
    "\n",
    "# Check your answer\n",
    "#step_2.check()\n",
    "print(X)"
   ]
  },
  {
   "cell_type": "code",
   "execution_count": 7,
   "id": "5e9a9259",
   "metadata": {
    "collapsed": true,
    "execution": {
     "iopub.execute_input": "2023-12-07T13:06:30.419661Z",
     "iopub.status.busy": "2023-12-07T13:06:30.419290Z",
     "iopub.status.idle": "2023-12-07T13:06:30.423682Z",
     "shell.execute_reply": "2023-12-07T13:06:30.422701Z"
    },
    "jupyter": {
     "outputs_hidden": true
    },
    "papermill": {
     "duration": 0.013533,
     "end_time": "2023-12-07T13:06:30.425729",
     "exception": false,
     "start_time": "2023-12-07T13:06:30.412196",
     "status": "completed"
    },
    "tags": []
   },
   "outputs": [],
   "source": [
    "# step_2.hint()\n",
    "# step_2.solution()"
   ]
  },
  {
   "cell_type": "markdown",
   "id": "014c9aa3",
   "metadata": {
    "papermill": {
     "duration": 0.005461,
     "end_time": "2023-12-07T13:06:30.436984",
     "exception": false,
     "start_time": "2023-12-07T13:06:30.431523",
     "status": "completed"
    },
    "tags": []
   },
   "source": [
    "## Review Data\n",
    "Before building a model, take a quick look at **X** to verify it looks sensible"
   ]
  },
  {
   "cell_type": "code",
   "execution_count": 8,
   "id": "f03d77e7",
   "metadata": {
    "execution": {
     "iopub.execute_input": "2023-12-07T13:06:30.450465Z",
     "iopub.status.busy": "2023-12-07T13:06:30.450056Z",
     "iopub.status.idle": "2023-12-07T13:06:30.461098Z",
     "shell.execute_reply": "2023-12-07T13:06:30.459953Z"
    },
    "papermill": {
     "duration": 0.020831,
     "end_time": "2023-12-07T13:06:30.463584",
     "exception": false,
     "start_time": "2023-12-07T13:06:30.442753",
     "status": "completed"
    },
    "tags": []
   },
   "outputs": [
    {
     "name": "stdout",
     "output_type": "stream",
     "text": [
      "<bound method NDFrame.describe of       LotArea  YearBuilt  1stFlrSF  2ndFlrSF  FullBath  BedroomAbvGr  \\\n",
      "0        8450       2003       856       854         2             3   \n",
      "1        9600       1976      1262         0         2             3   \n",
      "2       11250       2001       920       866         2             3   \n",
      "3        9550       1915       961       756         1             3   \n",
      "4       14260       2000      1145      1053         2             4   \n",
      "...       ...        ...       ...       ...       ...           ...   \n",
      "1455     7917       1999       953       694         2             3   \n",
      "1456    13175       1978      2073         0         2             3   \n",
      "1457     9042       1941      1188      1152         2             4   \n",
      "1458     9717       1950      1078         0         1             2   \n",
      "1459     9937       1965      1256         0         1             3   \n",
      "\n",
      "      TotRmsAbvGrd  \n",
      "0                8  \n",
      "1                6  \n",
      "2                6  \n",
      "3                7  \n",
      "4                9  \n",
      "...            ...  \n",
      "1455             7  \n",
      "1456             7  \n",
      "1457             9  \n",
      "1458             5  \n",
      "1459             6  \n",
      "\n",
      "[1460 rows x 7 columns]>\n",
      "   LotArea  YearBuilt  1stFlrSF  2ndFlrSF  FullBath  BedroomAbvGr  \\\n",
      "0     8450       2003       856       854         2             3   \n",
      "1     9600       1976      1262         0         2             3   \n",
      "2    11250       2001       920       866         2             3   \n",
      "3     9550       1915       961       756         1             3   \n",
      "4    14260       2000      1145      1053         2             4   \n",
      "\n",
      "   TotRmsAbvGrd  \n",
      "0             8  \n",
      "1             6  \n",
      "2             6  \n",
      "3             7  \n",
      "4             9  \n"
     ]
    }
   ],
   "source": [
    "# Review data\n",
    "# print description or statistics from X\n",
    "#print(_)\n",
    "print(X.describe)\n",
    "\n",
    "# print the top few lines\n",
    "#print(_)\n",
    "print(X.head())"
   ]
  },
  {
   "cell_type": "markdown",
   "id": "daf2ac9a",
   "metadata": {
    "papermill": {
     "duration": 0.005607,
     "end_time": "2023-12-07T13:06:30.475291",
     "exception": false,
     "start_time": "2023-12-07T13:06:30.469684",
     "status": "completed"
    },
    "tags": []
   },
   "source": [
    "## Step 3: Specify and Fit Model\n",
    "Create a `DecisionTreeRegressor` and save it iowa_model. Ensure you've done the relevant import from sklearn to run this command.\n",
    "\n",
    "Then fit the model you just created using the data in `X` and `y` that you saved above."
   ]
  },
  {
   "cell_type": "code",
   "execution_count": 9,
   "id": "300fb696",
   "metadata": {
    "execution": {
     "iopub.execute_input": "2023-12-07T13:06:30.491132Z",
     "iopub.status.busy": "2023-12-07T13:06:30.490089Z",
     "iopub.status.idle": "2023-12-07T13:06:30.509437Z",
     "shell.execute_reply": "2023-12-07T13:06:30.508341Z"
    },
    "papermill": {
     "duration": 0.029936,
     "end_time": "2023-12-07T13:06:30.511788",
     "exception": false,
     "start_time": "2023-12-07T13:06:30.481852",
     "status": "completed"
    },
    "tags": []
   },
   "outputs": [
    {
     "name": "stdout",
     "output_type": "stream",
     "text": [
      "DecisionTreeRegressor(random_state=1)\n"
     ]
    }
   ],
   "source": [
    "# from _ import _\n",
    "from sklearn.tree import DecisionTreeRegressor\n",
    "\n",
    "#specify the model. \n",
    "#For model reproducibility, set a numeric value for random_state when \n",
    "# specifying the model, normally assign 42 to random state. for check I didn 1 now.\n",
    "iowa_model = DecisionTreeRegressor(random_state = 1)\n",
    "\n",
    "# Fit the model\n",
    "iowa_model.fit(X,y)\n",
    "\n",
    "# Check your answer\n",
    "print(iowa_model)"
   ]
  },
  {
   "cell_type": "code",
   "execution_count": 10,
   "id": "d5e9fd44",
   "metadata": {
    "collapsed": true,
    "execution": {
     "iopub.execute_input": "2023-12-07T13:06:30.526059Z",
     "iopub.status.busy": "2023-12-07T13:06:30.525427Z",
     "iopub.status.idle": "2023-12-07T13:06:30.529548Z",
     "shell.execute_reply": "2023-12-07T13:06:30.528747Z"
    },
    "jupyter": {
     "outputs_hidden": true
    },
    "papermill": {
     "duration": 0.013768,
     "end_time": "2023-12-07T13:06:30.531567",
     "exception": false,
     "start_time": "2023-12-07T13:06:30.517799",
     "status": "completed"
    },
    "tags": []
   },
   "outputs": [],
   "source": [
    "# step_3.hint()\n",
    "# step_3.solution()"
   ]
  },
  {
   "cell_type": "markdown",
   "id": "899d9203",
   "metadata": {
    "papermill": {
     "duration": 0.00569,
     "end_time": "2023-12-07T13:06:30.543444",
     "exception": false,
     "start_time": "2023-12-07T13:06:30.537754",
     "status": "completed"
    },
    "tags": []
   },
   "source": [
    "## Step 4: Make Predictions\n",
    "Make predictions with the model's `predict` command using `X` as the data. Save the results to a variable called `predictions`."
   ]
  },
  {
   "cell_type": "code",
   "execution_count": 11,
   "id": "b9c6d881",
   "metadata": {
    "execution": {
     "iopub.execute_input": "2023-12-07T13:06:30.557501Z",
     "iopub.status.busy": "2023-12-07T13:06:30.556821Z",
     "iopub.status.idle": "2023-12-07T13:06:30.568009Z",
     "shell.execute_reply": "2023-12-07T13:06:30.566616Z"
    },
    "papermill": {
     "duration": 0.021052,
     "end_time": "2023-12-07T13:06:30.570462",
     "exception": false,
     "start_time": "2023-12-07T13:06:30.549410",
     "status": "completed"
    },
    "tags": []
   },
   "outputs": [
    {
     "name": "stdout",
     "output_type": "stream",
     "text": [
      "   LotArea  YearBuilt  1stFlrSF  2ndFlrSF  FullBath  BedroomAbvGr  \\\n",
      "0     8450       2003       856       854         2             3   \n",
      "1     9600       1976      1262         0         2             3   \n",
      "2    11250       2001       920       866         2             3   \n",
      "3     9550       1915       961       756         1             3   \n",
      "4    14260       2000      1145      1053         2             4   \n",
      "\n",
      "   TotRmsAbvGrd  \n",
      "0             8  \n",
      "1             6  \n",
      "2             6  \n",
      "3             7  \n",
      "4             9   of the houses are\n",
      "________________________________________________________________________\n",
      "The prediction of first few houses are: [208500. 181500. 223500. 140000. 250000.]\n"
     ]
    }
   ],
   "source": [
    "predictions = X.head()\n",
    "print(predictions, f'of the houses are')\n",
    "print(f'________________________________________________________________________')\n",
    "\n",
    "# Check your answer\n",
    "#step_4.check()\n",
    "print(f'The prediction of first few houses are:',iowa_model.predict(X.head()))"
   ]
  },
  {
   "cell_type": "code",
   "execution_count": 12,
   "id": "6c9a7271",
   "metadata": {
    "collapsed": true,
    "execution": {
     "iopub.execute_input": "2023-12-07T13:06:30.584832Z",
     "iopub.status.busy": "2023-12-07T13:06:30.584035Z",
     "iopub.status.idle": "2023-12-07T13:06:30.588502Z",
     "shell.execute_reply": "2023-12-07T13:06:30.587710Z"
    },
    "jupyter": {
     "outputs_hidden": true
    },
    "papermill": {
     "duration": 0.014044,
     "end_time": "2023-12-07T13:06:30.590777",
     "exception": false,
     "start_time": "2023-12-07T13:06:30.576733",
     "status": "completed"
    },
    "tags": []
   },
   "outputs": [],
   "source": [
    "# step_4.hint()\n",
    "# step_4.solution()"
   ]
  },
  {
   "cell_type": "markdown",
   "id": "586017d1",
   "metadata": {
    "papermill": {
     "duration": 0.006784,
     "end_time": "2023-12-07T13:06:30.604281",
     "exception": false,
     "start_time": "2023-12-07T13:06:30.597497",
     "status": "completed"
    },
    "tags": []
   },
   "source": [
    "## Think About Your Results\n",
    "\n",
    "Use the `head` method to compare the top few predictions to the actual home values (in `y`) for those same homes. Anything surprising?\n"
   ]
  },
  {
   "cell_type": "code",
   "execution_count": 13,
   "id": "2d0d17e8",
   "metadata": {
    "execution": {
     "iopub.execute_input": "2023-12-07T13:06:30.619528Z",
     "iopub.status.busy": "2023-12-07T13:06:30.618583Z",
     "iopub.status.idle": "2023-12-07T13:06:30.623459Z",
     "shell.execute_reply": "2023-12-07T13:06:30.622540Z"
    },
    "papermill": {
     "duration": 0.014795,
     "end_time": "2023-12-07T13:06:30.625583",
     "exception": false,
     "start_time": "2023-12-07T13:06:30.610788",
     "status": "completed"
    },
    "tags": []
   },
   "outputs": [],
   "source": [
    "# You can write code in this cell\n"
   ]
  },
  {
   "cell_type": "markdown",
   "id": "3b57f800",
   "metadata": {
    "papermill": {
     "duration": 0.006002,
     "end_time": "2023-12-07T13:06:30.637902",
     "exception": false,
     "start_time": "2023-12-07T13:06:30.631900",
     "status": "completed"
    },
    "tags": []
   },
   "source": [
    "It's natural to ask how accurate the model's predictions will be and how you can improve that. That will be you're next step.\n",
    "\n",
    "# Keep Going\n",
    "\n",
    "You are ready for **[Model Validation](https://www.kaggle.com/dansbecker/model-validation).**\n"
   ]
  },
  {
   "cell_type": "markdown",
   "id": "f1ddcc0b",
   "metadata": {
    "papermill": {
     "duration": 0.006104,
     "end_time": "2023-12-07T13:06:30.650511",
     "exception": false,
     "start_time": "2023-12-07T13:06:30.644407",
     "status": "completed"
    },
    "tags": []
   },
   "source": [
    "---\n",
    "\n",
    "\n",
    "\n",
    "\n",
    "*Have questions or comments? Visit the [course discussion forum](https://www.kaggle.com/learn/intro-to-machine-learning/discussion) to chat with other learners.*"
   ]
  }
 ],
 "metadata": {
  "kaggle": {
   "accelerator": "none",
   "dataSources": [
    {
     "databundleVersionId": 111096,
     "sourceId": 10211,
     "sourceType": "competition"
    },
    {
     "datasetId": 11167,
     "sourceId": 15520,
     "sourceType": "datasetVersion"
    },
    {
     "datasetId": 2709,
     "sourceId": 38454,
     "sourceType": "datasetVersion"
    }
   ],
   "isGpuEnabled": false,
   "isInternetEnabled": false,
   "language": "python",
   "sourceType": "notebook"
  },
  "kernelspec": {
   "display_name": "Python 3 (ipykernel)",
   "language": "python",
   "name": "python3"
  },
  "language_info": {
   "codemirror_mode": {
    "name": "ipython",
    "version": 3
   },
   "file_extension": ".py",
   "mimetype": "text/x-python",
   "name": "python",
   "nbconvert_exporter": "python",
   "pygments_lexer": "ipython3",
   "version": "3.11.5"
  },
  "papermill": {
   "default_parameters": {},
   "duration": 6.221073,
   "end_time": "2023-12-07T13:06:31.278155",
   "environment_variables": {},
   "exception": null,
   "input_path": "__notebook__.ipynb",
   "output_path": "__notebook__.ipynb",
   "parameters": {},
   "start_time": "2023-12-07T13:06:25.057082",
   "version": "2.4.0"
  }
 },
 "nbformat": 4,
 "nbformat_minor": 5
}
